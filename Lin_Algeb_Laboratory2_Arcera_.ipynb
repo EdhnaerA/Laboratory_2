{
  "nbformat": 4,
  "nbformat_minor": 0,
  "metadata": {
    "colab": {
      "name": "Lin-Algeb_Laboratory2_Arcera_.ipynb",
      "provenance": [],
      "collapsed_sections": [],
      "authorship_tag": "ABX9TyNE9OGwC/KhOMwH7n9QplFP",
      "include_colab_link": true
    },
    "kernelspec": {
      "name": "python3",
      "display_name": "Python 3"
    }
  },
  "cells": [
    {
      "cell_type": "markdown",
      "metadata": {
        "id": "view-in-github",
        "colab_type": "text"
      },
      "source": [
        "<a href=\"https://colab.research.google.com/github/EdhnaerA/Laboratory_2/blob/main/Lin_Algeb_Laboratory2_Arcera_.ipynb\" target=\"_parent\"><img src=\"https://colab.research.google.com/assets/colab-badge.svg\" alt=\"Open In Colab\"/></a>"
      ]
    },
    {
      "cell_type": "markdown",
      "metadata": {
        "id": "io-K8e2R43-7"
      },
      "source": [
        ""
      ]
    },
    {
      "cell_type": "markdown",
      "metadata": {
        "id": "8guZth16q8VA"
      },
      "source": [
        "# Laboratory no.2 Introduction of Vectors\r\n"
      ]
    },
    {
      "cell_type": "code",
      "metadata": {
        "id": "l54re5FKnAIa"
      },
      "source": [
        "import numpy as np\r\n",
        "\r\n",
        "A = np.array([3, 3, -3])\r\n",
        "B = np.array([-5, -2, 0])\r\n",
        "C = np.array([2, -3, 5])\r\n",
        "D = np.array([4, -3, 2])\r\n",
        "E = np.array([5, -1, 4])\r\n"
      ],
      "execution_count": 2,
      "outputs": []
    },
    {
      "cell_type": "markdown",
      "metadata": {
        "id": "JEfyh7mCrjoU"
      },
      "source": [
        "### Addition and Subtraction\r\n"
      ]
    },
    {
      "cell_type": "code",
      "metadata": {
        "id": "NbQe43FH5lWU"
      },
      "source": [
        "R = A + B + C - D - E #Eager Execution\r\n",
        "print(' VECTORS ', R)"
      ],
      "execution_count": null,
      "outputs": []
    },
    {
      "cell_type": "code",
      "metadata": {
        "colab": {
          "base_uri": "https://localhost:8080/"
        },
        "id": "DE5IsNsU5srJ",
        "outputId": "a272edbd-3e96-412d-bc1f-e80018804404"
      },
      "source": [
        "R1 = np.add(A,B) #Functional Method\r\n",
        "R2 = np.subtract(R1,C)\r\n",
        "R3 = np.add(R2,D)\r\n",
        "R4 = np.subtract(R3,E)\r\n",
        "print (\"VECTORS\", R4)"
      ],
      "execution_count": 3,
      "outputs": [
        {
          "output_type": "stream",
          "text": [
            "VECTORS [ -5   2 -10]\n"
          ],
          "name": "stdout"
        }
      ]
    },
    {
      "cell_type": "markdown",
      "metadata": {
        "id": "u-raevkd4zXI"
      },
      "source": [
        "### Multiplication and Division"
      ]
    },
    {
      "cell_type": "code",
      "metadata": {
        "id": "NQougzEC6C3y"
      },
      "source": [
        "R = A * C / E\r\n",
        "print('VECTORS ', R)"
      ],
      "execution_count": null,
      "outputs": []
    },
    {
      "cell_type": "code",
      "metadata": {
        "colab": {
          "base_uri": "https://localhost:8080/"
        },
        "id": "t05aXgeh6FMd",
        "outputId": "8c84aa27-ee17-4373-d1ac-1cbe354493b1"
      },
      "source": [
        "R1 = np.multiply(B,D)\r\n",
        "R2 = np.divide(R1,E)\r\n",
        "print (\"VECTORS\",R2)\r\n"
      ],
      "execution_count": 4,
      "outputs": [
        {
          "output_type": "stream",
          "text": [
            "VECTORS [-4. -6.  0.]\n"
          ],
          "name": "stdout"
        }
      ]
    },
    {
      "cell_type": "markdown",
      "metadata": {
        "id": "ZBbZmsLu8udG"
      },
      "source": [
        "### Squaring and Square root"
      ]
    },
    {
      "cell_type": "code",
      "metadata": {
        "id": "WI4cnOst6Q-z"
      },
      "source": [
        "X = np.array([4,9,25])\r\n",
        "Y = np.array([2,3,5])\r\n",
        "\r\n",
        "R1 = np.sqrt(np.square(X))\r\n",
        "print (\"VECTORS\",R1)"
      ],
      "execution_count": null,
      "outputs": []
    },
    {
      "cell_type": "markdown",
      "metadata": {
        "id": "GdWNp3nj-1Vm"
      },
      "source": [
        "### Summation"
      ]
    },
    {
      "cell_type": "code",
      "metadata": {
        "colab": {
          "base_uri": "https://localhost:8080/"
        },
        "id": "3QpYjR7T6qWJ",
        "outputId": "a88b7432-a502-4f14-9fcd-1fc6d3521a7a"
      },
      "source": [
        "arr = [30, -9, .3, 5, 2]   \r\n",
        "   \r\n",
        "print(\"SUM OF ARRAY : \", np.sum(arr))  \r\n",
        "   \r\n",
        "print(\"SUM OF ARRAY(uint8) : \", np.sum(arr, dtype = np.uint8))  \r\n",
        "print(\"SUM OF ARRAY(float32) : \", np.sum(arr, dtype = np.float32)) "
      ],
      "execution_count": 6,
      "outputs": [
        {
          "output_type": "stream",
          "text": [
            "SUM OF ARRAY :  28.3\n",
            "SUM OF ARRAY(uint8) :  28\n",
            "SUM OF ARRAY(float32) :  28.3\n"
          ],
          "name": "stdout"
        }
      ]
    },
    {
      "cell_type": "code",
      "metadata": {
        "colab": {
          "base_uri": "https://localhost:8080/"
        },
        "id": "63g9wRLR7GlB",
        "outputId": "71c99cac-d0c8-4957-bf8d-4f98ef02f73e"
      },
      "source": [
        "# 2D array  \r\n",
        "arr = [[16, 18, 24, 23,34],    \r\n",
        "       [35, 26, 17, 10, 23],   \r\n",
        "       [13, 21, 14, 18, 3,]]   \r\n",
        "   \r\n",
        "print(\"\\nSUM OF ARRAY : \", np.sum(arr))  \r\n",
        "   \r\n",
        "print(\"SUM OF ARRAY(uint8) : \", np.sum(arr, dtype = np.uint8))  \r\n",
        "print(\"SUM OF ARRAY(float32) : \", np.sum(arr, dtype = np.float32)) "
      ],
      "execution_count": 8,
      "outputs": [
        {
          "output_type": "stream",
          "text": [
            "\n",
            "SUM OF ARRAY :  295\n",
            "SUM OF ARRAY(uint8) :  39\n",
            "SUM OF ARRAY(float32) :  295.0\n"
          ],
          "name": "stdout"
        }
      ]
    },
    {
      "cell_type": "markdown",
      "metadata": {
        "id": "1yYUqefDAsQE"
      },
      "source": [
        "### Visualizing the vectors"
      ]
    },
    {
      "cell_type": "code",
      "metadata": {
        "id": "wmBwE9av8HuR"
      },
      "source": [
        "import matplotlib.pyplot as plt"
      ],
      "execution_count": 9,
      "outputs": []
    },
    {
      "cell_type": "code",
      "metadata": {
        "colab": {
          "base_uri": "https://localhost:8080/",
          "height": 296
        },
        "id": "G9rns6QB8Jtz",
        "outputId": "868fece8-a6bd-49b0-f0da-c395eb86ffff"
      },
      "source": [
        "a = [3.0,5.0]\r\n",
        "b = [6.0,7.0]\r\n",
        "\r\n",
        "head_length = 0.7\r\n",
        "\r\n",
        "dx = b[0] - a[0]\r\n",
        "dy = b[1] - a[1]\r\n",
        "\r\n",
        "vec_ab = [dx,dy]\r\n",
        "\r\n",
        "vec_ab_magnitude = np.sqrt(dx**2+dy**2)\r\n",
        "\r\n",
        "dx = dx / vec_ab_magnitude\r\n",
        "dy = dy / vec_ab_magnitude\r\n",
        "\r\n",
        "vec_ab_magnitude = vec_ab_magnitude - head_length\r\n",
        "\r\n",
        "ax = plt.axes()\r\n",
        "\r\n",
        "ax.arrow(a[0], a[1], vec_ab_magnitude*dx, vec_ab_magnitude*dy, head_width=0.5, head_length=0.7, fc='lightblue', ec='black')\r\n",
        "\r\n",
        "plt.scatter(a[0],a[1],color='black')\r\n",
        "plt.scatter(b[0],b[1],color='black')\r\n",
        "\r\n",
        "ax.annotate('A', (a[0]-0.4,a[1]),fontsize=14)\r\n",
        "ax.annotate('B', (b[0]+0.3,b[1]),fontsize=14)\r\n",
        "\r\n",
        "plt.grid()\r\n",
        "\r\n",
        "plt.xlim(0,10)\r\n",
        "plt.ylim(0,10)\r\n",
        "\r\n",
        "plt.title('Vizualing the vectors',fontsize=10)\r\n"
      ],
      "execution_count": 11,
      "outputs": [
        {
          "output_type": "execute_result",
          "data": {
            "text/plain": [
              "Text(0.5, 1.0, 'Vizualing the vectors')"
            ]
          },
          "metadata": {
            "tags": []
          },
          "execution_count": 11
        },
        {
          "output_type": "display_data",
          "data": {
            "image/png": "[encoded data removed]",
            "text/plain": [
              "<Figure size 432x288 with 1 Axes>"
            ]
          },
          "metadata": {
            "tags": [],
            "needs_background": "light"
          }
        }
      ]
    }
  ]
}